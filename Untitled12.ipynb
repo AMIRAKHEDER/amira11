{
 "cells": [
  {
   "cell_type": "code",
   "execution_count": null,
   "id": "01826343",
   "metadata": {},
   "outputs": [],
   "source": [
    "from array import *\n",
    "array_num = array('i', [1, 3, 5, 3, 7, 1, 9, 3])\n",
    "print(\"Original array: \"+str(array_num))\n",
    "num_list = array_num.tolist()\n",
    "print(\"Convert the said array to an ordinary list with the same items:\")\n",
    "print(num_list)"
   ]
  },
  {
   "cell_type": "code",
   "execution_count": null,
   "id": "5243b5d2",
   "metadata": {},
   "outputs": [],
   "source": [
    "import numpy as np\n",
    "m = np.arange(6).reshape(2,3)\n",
    "print(\"Original matrix:\")\n",
    "print(m)\n",
    "result =  np.trace(m)\n",
    "print(\"Condition number of the said matrix:\")\n",
    "print(result)"
   ]
  },
  {
   "cell_type": "code",
   "execution_count": null,
   "id": "f10835fc",
   "metadata": {},
   "outputs": [],
   "source": [
    "import numpy as np\n",
    "x = np.array([[0, 10, 20], [20, 30, 40]])\n",
    "print(\"Original array: \")\n",
    "print(x)\n",
    "print(\"value bigger than 10 =\",x[x>10])\n",
    "print(\"their indice are\" nep.nonzero(x> 10))\n"
   ]
  },
  {
   "cell_type": "code",
   "execution_count": null,
   "id": "1840610c",
   "metadata": {},
   "outputs": [],
   "source": [
    "\n",
    "A = np.array([[1, 1], [1, 2], [3, 1]])\n",
    "B = np.array([[2, 3], [3, 2], [1, 4]])\n",
    "C = np.array([[1, 2], [3,4]])\n",
    "print(A+B)\n",
    "print(A*B)\n",
    "\n",
    "\n",
    "print(A+C)\n",
    "print(A*C)"
   ]
  },
  {
   "cell_type": "code",
   "execution_count": null,
   "id": "6243dab0",
   "metadata": {},
   "outputs": [],
   "source": [
    "import numpy as np\n",
    "print(\"Original matrix:\\n\")\n",
    "X = np.random.rand(5, 10)\n",
    "print(X)\n",
    "print(\"\\nSubtract the mean of each row of the said matrix:\\n\")\n",
    "Y = X - X.mean(axis=1, keepdims=True)\n",
    "print(Y)\n"
   ]
  }
 ],
 "metadata": {
  "kernelspec": {
   "display_name": "Python 3",
   "language": "python",
   "name": "python3"
  },
  "language_info": {
   "codemirror_mode": {
    "name": "ipython",
    "version": 3
   },
   "file_extension": ".py",
   "mimetype": "text/x-python",
   "name": "python",
   "nbconvert_exporter": "python",
   "pygments_lexer": "ipython3",
   "version": "3.8.8"
  }
 },
 "nbformat": 4,
 "nbformat_minor": 5
}
